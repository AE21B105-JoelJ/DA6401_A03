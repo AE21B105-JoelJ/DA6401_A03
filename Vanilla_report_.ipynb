{
 "cells": [
  {
   "cell_type": "markdown",
   "id": "51387b6b",
   "metadata": {},
   "source": [
    "# Vanilla Seq2Seq Report Tester Notebook\n",
    "This notebook is used to take the best model from the sweep retrain the model using appropriate callbacks and then predict on the test set and save it and also create some visualizations if required. Without much details lets get into the assignment."
   ]
  },
  {
   "cell_type": "code",
   "execution_count": null,
   "id": "8aa392ca",
   "metadata": {},
   "outputs": [],
   "source": [
    "#"
   ]
  }
 ],
 "metadata": {
  "kernelspec": {
   "display_name": "Python 3 (ipykernel)",
   "language": "python",
   "name": "python3"
  }
 },
 "nbformat": 4,
 "nbformat_minor": 5
}
